{
  "nbformat": 4,
  "nbformat_minor": 0,
  "metadata": {
    "colab": {
      "name": "Torf.ipynb",
      "provenance": [],
      "collapsed_sections": [],
      "mount_file_id": "1VSmKKcR1UH_RUQtVrL_P8wz0uIPdQcwq",
      "authorship_tag": "ABX9TyOMBE4YZRcGhuQ7vT6X1T3W",
      "include_colab_link": true
    },
    "kernelspec": {
      "display_name": "Python 3",
      "name": "python3"
    },
    "language_info": {
      "name": "python"
    }
  },
  "cells": [
    {
      "cell_type": "markdown",
      "metadata": {
        "id": "view-in-github",
        "colab_type": "text"
      },
      "source": [
        "<a href=\"https://colab.research.google.com/github/Gurneet1928/Torf.colab/blob/main/Torf.ipynb\" target=\"_parent\"><img src=\"https://colab.research.google.com/assets/colab-badge.svg\" alt=\"Open In Colab\"/></a>"
      ]
    },
    {
      "cell_type": "code",
      "metadata": {
        "id": "Osp-tOxvuwyP",
        "colab": {
          "base_uri": "https://localhost:8080/"
        },
        "outputId": "abb0f9fc-14dd-4aa6-a682-354cea1b48d0"
      },
      "source": [
        "!pip install torf"
      ],
      "execution_count": null,
      
    },
    {
      "cell_type": "code",
      "metadata": {
        "id": "Kr8OeDFowd8W",
        "colab": {
          "base_uri": "https://localhost:8080/"
        },
        "outputId": "5c110864-c2c1-42d8-b9db-de2925a67a52"
      },
      "source": [
        "cd \"\location\to\file(MUST SPECIFY LOCATION FIRST)""
      ],
      "execution_count": null,
      
    },
    {
      "cell_type": "code",
      "metadata": {
        "id": "qgpsW3snvFCc"
      },
      "source": [
        "from torf import Torrent\n",
        "t = Torrent(path=\"Name_of_file.extension\",\n",
        "            trackers=[   'Tracker 1',\n",
        "                                  'Tracker 2',\n",
        "                                  'Tracker 3',\n",
        "                                  'Tracker N',\n",
        "                                  
        "            comment='If needed , write comment here')\n",
        "t.private = False\n",
        "t.generate()\n",
        "t.write(\"Name_of_output_file.torrent\")"
      ],
      "execution_count": null,
      "outputs": []
    },
    {
      "cell_type": "code",
      "metadata": {
        "colab": {
          "base_uri": "https://localhost:8080/",
          "height": 233
        },
        "id": "ZLK5wHsLJJB7",
        "outputId": "f1da6dcd-699c-4065-a38e-bc3602b09bc9"
      },
      
    }
  ]
}
