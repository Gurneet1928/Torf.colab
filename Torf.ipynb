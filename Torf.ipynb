{
  "nbformat": 4,
  "nbformat_minor": 0,
  "metadata": {
    "colab": {
      "name": "Torf.ipynb",
      "provenance": [],
      "collapsed_sections": [],
      "mount_file_id": "1VSmKKcR1UH_RUQtVrL_P8wz0uIPdQcwq",
      "authorship_tag": "ABX9TyM1DOB2MqoeSVaDi7qBh5Zm",
      "include_colab_link": true
    },
    "kernelspec": {
      "display_name": "Python 3",
      "name": "python3"
    },
    "language_info": {
      "name": "python"
    }
  },
  "cells": [
    {
      "cell_type": "markdown",
      "metadata": {
        "id": "view-in-github",
        "colab_type": "text"
      },
      "source": [
        "<a href=\"https://colab.research.google.com/github/Gurneet1928/Torf.colab/blob/main/Torf.ipynb\" target=\"_parent\"><img src=\"https://colab.research.google.com/assets/colab-badge.svg\" alt=\"Open In Colab\"/></a>"
      ]
    },
    {
      "cell_type": "code",
      "metadata": {
        "id": "Osp-tOxvuwyP"
      },
      "source": [
        "!pip install torf"
      ],
      "execution_count": null,
      "outputs": []
    },
    {
      "cell_type": "code",
      "metadata": {
        "id": "Kr8OeDFowd8W"
      },
      "source": [
        "cd \"\\location\\to\\folder\""
      ],
      "execution_count": null,
      "outputs": []
    },
    {
      "cell_type": "code",
      "metadata": {
        "id": "qgpsW3snvFCc"
      },
      "source": [
        "from torf import Torrent\n",
        "t = Torrent(path=\"name_of_file.extension\",\n",
        "            trackers=[   'Tracker 1',\n",
        "                                  'Tracker 2',\n",
        "                                  'Tracker 3',\n",
        "                                  'Tracker N (Repeat for adding more trackers)',\n",
        "                                  ],\n",
        "            comment='If needed , add comment for torrent here')\n",
        "t.private = False \n",
        "t.generate()\n",
        "t.write(\"Name_of_output_file.torrent\")"
      ],
      "execution_count": null,
      "outputs": []
    }
  ]
}