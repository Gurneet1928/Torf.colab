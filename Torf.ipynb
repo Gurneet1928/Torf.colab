{
  "nbformat": 4,
  "nbformat_minor": 0,
  "metadata": {
    "colab": {
      "name": "Torf.ipynb",
      "provenance": [],
      "collapsed_sections": [],
      "mount_file_id": "1VSmKKcR1UH_RUQtVrL_P8wz0uIPdQcwq",
      "authorship_tag": "ABX9TyOMBE4YZRcGhuQ7vT6X1T3W",
      "include_colab_link": true
    },
    "kernelspec": {
      "display_name": "Python 3",
      "name": "python3"
    },
    "language_info": {
      "name": "python"
    }
  },
  "cells": [
    {
      "cell_type": "markdown",
      "metadata": {
        "id": "view-in-github",
        "colab_type": "text"
      },
      "source": [
        "<a href=\"https://colab.research.google.com/github/Gurneet1928/Torf.colab/blob/main/Torf.ipynb\" target=\"_parent\"><img src=\"https://colab.research.google.com/assets/colab-badge.svg\" alt=\"Open In Colab\"/></a>"
      ]
    },
    {
      "cell_type": "code",
      "metadata": {
        "id": "Osp-tOxvuwyP",
        "colab": {
          "base_uri": "https://localhost:8080/"
        },
        "outputId": "abb0f9fc-14dd-4aa6-a682-354cea1b48d0"
      },
      "source": [
        "!pip install torf"
      ],
      "execution_count": null,
      "outputs": [
        {
          "output_type": "stream",
          "text": [
            "Collecting torf\n",
            "\u001b[?25l  Downloading https://files.pythonhosted.org/packages/2b/b2/8fbde99202bf706bec9883e1acddbf3e9d0fc1d1ba6634cc1d4d6fddfed9/torf-3.1.3-py3-none-any.whl (50kB)\n",
            "\r\u001b[K     |██████▌                         | 10kB 14.2MB/s eta 0:00:01\r\u001b[K     |█████████████                   | 20kB 17.2MB/s eta 0:00:01\r\u001b[K     |███████████████████▍            | 30kB 10.1MB/s eta 0:00:01\r\u001b[K     |█████████████████████████▉      | 40kB 8.4MB/s eta 0:00:01\r\u001b[K     |████████████████████████████████| 51kB 3.0MB/s \n",
            "\u001b[?25hCollecting flatbencode==0.2.*\n",
            "  Downloading https://files.pythonhosted.org/packages/96/3d/ed36c2a94bef2ff1b7fc62ba932fa2eb4db3f7ea30c89da01b1c64ecbb8c/flatbencode-0.2.1.tar.gz\n",
            "Building wheels for collected packages: flatbencode\n",
            "  Building wheel for flatbencode (setup.py) ... \u001b[?25l\u001b[?25hdone\n",
            "  Created wheel for flatbencode: filename=flatbencode-0.2.1-cp37-none-any.whl size=3284 sha256=f2befd441236802f8a8c6b159cd9d4f0488e68aa5ecf61041cf17bd29beddda9\n",
            "  Stored in directory: /root/.cache/pip/wheels/29/58/c2/0aca5bf762211cfb8f03506a3fe3022b3d460c224d21cc4034\n",
            "Successfully built flatbencode\n",
            "Installing collected packages: flatbencode, torf\n",
            "Successfully installed flatbencode-0.2.1 torf-3.1.3\n"
          ],
          "name": "stdout"
        }
      ]
    },
    {
      "cell_type": "code",
      "metadata": {
        "id": "Kr8OeDFowd8W",
        "colab": {
          "base_uri": "https://localhost:8080/"
        },
        "outputId": "5c110864-c2c1-42d8-b9db-de2925a67a52"
      },
      "source": [
        "cd \"/content/drive/Shareddrives/Hakata Ramen/[Anime Releases]/[Weeklies]/[Ranger's Weeklies]/Yuukoku no Moriarty S01-C2/\""
      ],
      "execution_count": null,
      "outputs": [
        {
          "output_type": "stream",
          "text": [
            "/content/drive/Shareddrives/Hakata Ramen/[Anime Releases]/[Weeklies]/[Ranger's Weeklies]/Yuukoku no Moriarty S01-C2\n"
          ],
          "name": "stdout"
        }
      ]
    },
    {
      "cell_type": "code",
      "metadata": {
        "id": "qgpsW3snvFCc"
      },
      "source": [
        "from torf import Torrent\n",
        "t = Torrent(path=\"[HR] Mairimashita! Iruma-kun S02E03 [B91CD7AF].mkv\",\n",
        "            trackers=[   'udp://exodus.desync.com:6969/announce',\n",
        "                                  'udp://tracker.opentrackr.org:1337/announce',\n",
        "                                  'udp://tracker.ds.is:6969/announce',\n",
        "                                  'udp://tracker2.itzmx.com:6961/announce',\n",
        "                                  'http://h4.trakx.nibba.trade:80/announce',\n",
        "                                  'http://tracker.opentrackr.org:1337/announce',\n",
        "                                  'http://tracker.anirena.com:80/announce',\n",
        "                                  'http://tracker.gbitt.info/announce',\n",
        "                                  'http://tracker2.itzmx.com:6961/announce',\n",
        "                                  'udp://tracker.torrent.eu.org:451/announce',\n",
        "                                  'http://anidex.moe:6969/announce',\n",
        "                                  'udp://9.rarbg.me:2710/announce',\n",
        "                                  'udp://p4p.arenabg.ch:1337/announce',\n",
        "                                  'udp://tracker.zerobytes.xyz:1337/announce',\n",
        "                                  'udp://bt2.archive.org:6969/announce',\n",
        "                                  'udp://tracker.cyberia.is:6969/announce',\n",
        "                                  'udp://bt1.archive.org:6969/announce',\n",
        "                                  'udp://tracker-udp.anirena.com:80/announce',\n",
        "                                  'udp://tracker.internetwarriors.net:1337/announce',\n",
        "                                  'udp://tracker3.itzmx.com:6961/announce',\n",
        "                                  'http://tracker.files.fm:6969/announce',\n",
        "                                  'http://tracker3.itzmx.com:6961/announce',\n",
        "                                  'udp://tracker-udp.gbitt.info:80/announce',\n",
        "                                  'udp://tracker.tiny-vps.com:6969/announce',\n",
        "                                  'udp://tracker1.itzmx.com:8080/announce',\n",
        "                                  'udp://tracker.moeking.me:6969/announce',\n",
        "                                  'udp://tracker.leechers-paradise.org:6969/announce',\n",
        "                                  'udp://open.demonii.si:1337/announce'],\n",
        "            comment='')\n",
        "t.private = False\n",
        "t.generate()\n",
        "t.write(\"[HR] Mairimashita! Iruma-kun S02E03.torrent\")"
      ],
      "execution_count": null,
      "outputs": []
    },
    {
      "cell_type": "code",
      "metadata": {
        "colab": {
          "base_uri": "https://localhost:8080/",
          "height": 233
        },
        "id": "ZLK5wHsLJJB7",
        "outputId": "f1da6dcd-699c-4065-a38e-bc3602b09bc9"
      },
      "source": [
        "ses = lt.session()\n",
        "ses.listen_on(6881, 6891)\n",
        "h = ses.add_torrent({'ti': lt.torrent_info('[HR] Mars Red S01E01.torrentt'), 'save_path': '.', 'seed_mode': True}) \n",
        "print (\"Total size: \" + str(h.status().total_wanted))\n",
        "print (\"Name: \" + h.name()   )\n",
        "while True:\n",
        "    s = h.status()\n",
        "    state_str = ['queued', 'checking', 'downloading metadata', \\\n",
        "      'downloading', 'finished', 'seeding', 'allocating', 'checking fastresume']\n",
        "\n",
        "    print('\\r%.2f%% complete (down: %.1f kb/s up: %.1f kB/s peers: %d) %s' % \\\n",
        "      (s.progress * 100, s.download_rate / 1000, s.upload_rate / 1000, s.num_peers, state_str[s.state]))\n",
        "    sys.stdout.flush()\n",
        "\n",
        "    time.sleep(1)"
      ],
      "execution_count": null,
      "outputs": [
        {
          "output_type": "error",
          "ename": "NameError",
          "evalue": "ignored",
          "traceback": [
            "\u001b[0;31m---------------------------------------------------------------------------\u001b[0m",
            "\u001b[0;31mNameError\u001b[0m                                 Traceback (most recent call last)",
            "\u001b[0;32m<ipython-input-5-0e6928d9aa1e>\u001b[0m in \u001b[0;36m<module>\u001b[0;34m()\u001b[0m\n\u001b[0;32m----> 1\u001b[0;31m \u001b[0mses\u001b[0m \u001b[0;34m=\u001b[0m \u001b[0mlt\u001b[0m\u001b[0;34m.\u001b[0m\u001b[0msession\u001b[0m\u001b[0;34m(\u001b[0m\u001b[0;34m)\u001b[0m\u001b[0;34m\u001b[0m\u001b[0;34m\u001b[0m\u001b[0m\n\u001b[0m\u001b[1;32m      2\u001b[0m \u001b[0mses\u001b[0m\u001b[0;34m.\u001b[0m\u001b[0mlisten_on\u001b[0m\u001b[0;34m(\u001b[0m\u001b[0;36m6881\u001b[0m\u001b[0;34m,\u001b[0m \u001b[0;36m6891\u001b[0m\u001b[0;34m)\u001b[0m\u001b[0;34m\u001b[0m\u001b[0;34m\u001b[0m\u001b[0m\n\u001b[1;32m      3\u001b[0m \u001b[0mh\u001b[0m \u001b[0;34m=\u001b[0m \u001b[0mses\u001b[0m\u001b[0;34m.\u001b[0m\u001b[0madd_torrent\u001b[0m\u001b[0;34m(\u001b[0m\u001b[0;34m{\u001b[0m\u001b[0;34m'ti'\u001b[0m\u001b[0;34m:\u001b[0m \u001b[0mlt\u001b[0m\u001b[0;34m.\u001b[0m\u001b[0mtorrent_info\u001b[0m\u001b[0;34m(\u001b[0m\u001b[0;34m'[HR] Mars Red S01E01.torrentt'\u001b[0m\u001b[0;34m)\u001b[0m\u001b[0;34m,\u001b[0m \u001b[0;34m'save_path'\u001b[0m\u001b[0;34m:\u001b[0m \u001b[0;34m'.'\u001b[0m\u001b[0;34m,\u001b[0m \u001b[0;34m'seed_mode'\u001b[0m\u001b[0;34m:\u001b[0m \u001b[0;32mTrue\u001b[0m\u001b[0;34m}\u001b[0m\u001b[0;34m)\u001b[0m\u001b[0;34m\u001b[0m\u001b[0;34m\u001b[0m\u001b[0m\n\u001b[1;32m      4\u001b[0m \u001b[0mprint\u001b[0m \u001b[0;34m(\u001b[0m\u001b[0;34m\"Total size: \"\u001b[0m \u001b[0;34m+\u001b[0m \u001b[0mstr\u001b[0m\u001b[0;34m(\u001b[0m\u001b[0mh\u001b[0m\u001b[0;34m.\u001b[0m\u001b[0mstatus\u001b[0m\u001b[0;34m(\u001b[0m\u001b[0;34m)\u001b[0m\u001b[0;34m.\u001b[0m\u001b[0mtotal_wanted\u001b[0m\u001b[0;34m)\u001b[0m\u001b[0;34m)\u001b[0m\u001b[0;34m\u001b[0m\u001b[0;34m\u001b[0m\u001b[0m\n\u001b[1;32m      5\u001b[0m \u001b[0mprint\u001b[0m \u001b[0;34m(\u001b[0m\u001b[0;34m\"Name: \"\u001b[0m \u001b[0;34m+\u001b[0m \u001b[0mh\u001b[0m\u001b[0;34m.\u001b[0m\u001b[0mname\u001b[0m\u001b[0;34m(\u001b[0m\u001b[0;34m)\u001b[0m   \u001b[0;34m)\u001b[0m\u001b[0;34m\u001b[0m\u001b[0;34m\u001b[0m\u001b[0m\n",
            "\u001b[0;31mNameError\u001b[0m: name 'lt' is not defined"
          ]
        }
      ]
    }
  ]
}